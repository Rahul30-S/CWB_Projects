{
 "cells": [
  {
   "cell_type": "code",
   "execution_count": 1,
   "id": "faaab01c-5c9a-4ba1-b9a4-fd5ae63d6350",
   "metadata": {},
   "outputs": [
    {
     "name": "stdout",
     "output_type": "stream",
     "text": [
      "Requirement already satisfied: tweepy in c:\\users\\cfara\\anaconda3\\lib\\site-packages (4.14.0)\n",
      "Requirement already satisfied: pandas in c:\\users\\cfara\\anaconda3\\lib\\site-packages (2.2.2)\n",
      "Requirement already satisfied: oauthlib<4,>=3.2.0 in c:\\users\\cfara\\anaconda3\\lib\\site-packages (from tweepy) (3.2.2)\n",
      "Requirement already satisfied: requests<3,>=2.27.0 in c:\\users\\cfara\\anaconda3\\lib\\site-packages (from tweepy) (2.32.2)\n",
      "Requirement already satisfied: requests-oauthlib<2,>=1.2.0 in c:\\users\\cfara\\anaconda3\\lib\\site-packages (from tweepy) (1.3.1)\n",
      "Requirement already satisfied: numpy>=1.26.0 in c:\\users\\cfara\\anaconda3\\lib\\site-packages (from pandas) (1.26.4)\n",
      "Requirement already satisfied: python-dateutil>=2.8.2 in c:\\users\\cfara\\anaconda3\\lib\\site-packages (from pandas) (2.9.0.post0)\n",
      "Requirement already satisfied: pytz>=2020.1 in c:\\users\\cfara\\anaconda3\\lib\\site-packages (from pandas) (2024.1)\n",
      "Requirement already satisfied: tzdata>=2022.7 in c:\\users\\cfara\\anaconda3\\lib\\site-packages (from pandas) (2023.3)\n",
      "Requirement already satisfied: six>=1.5 in c:\\users\\cfara\\anaconda3\\lib\\site-packages (from python-dateutil>=2.8.2->pandas) (1.16.0)\n",
      "Requirement already satisfied: charset-normalizer<4,>=2 in c:\\users\\cfara\\anaconda3\\lib\\site-packages (from requests<3,>=2.27.0->tweepy) (2.0.4)\n",
      "Requirement already satisfied: idna<4,>=2.5 in c:\\users\\cfara\\anaconda3\\lib\\site-packages (from requests<3,>=2.27.0->tweepy) (3.7)\n",
      "Requirement already satisfied: urllib3<3,>=1.21.1 in c:\\users\\cfara\\anaconda3\\lib\\site-packages (from requests<3,>=2.27.0->tweepy) (2.2.2)\n",
      "Requirement already satisfied: certifi>=2017.4.17 in c:\\users\\cfara\\anaconda3\\lib\\site-packages (from requests<3,>=2.27.0->tweepy) (2024.8.30)\n",
      "Note: you may need to restart the kernel to use updated packages.\n"
     ]
    }
   ],
   "source": [
    "pip install tweepy pandas"
   ]
  },
  {
   "cell_type": "code",
   "execution_count": 3,
   "id": "49d13d00-018a-41fb-858c-bb8d4cdaa4c8",
   "metadata": {},
   "outputs": [],
   "source": [
    "import tweepy\n",
    "import pandas as pd"
   ]
  },
  {
   "cell_type": "code",
   "execution_count": 7,
   "id": "e281e4ed-b45e-47e5-9725-1397332e3521",
   "metadata": {},
   "outputs": [],
   "source": [
    "#Twitter API credentials\n",
    "API_KEY = \"q3EdRvUmGnuY5nSvWJhpttQuk\"\n",
    "API_SECRET = \"bESGi9NbHx0MijU7QaqtTrSUWSBeauddfSNN06JWhNtcO6On46\"\n",
    "BEARER_TOKEN =\"AAAAAAAAAAAAAAAAAAAAAKzexQEAAAAArrTyCBLYqwdEK0QbpsipceAEM5o%3DjA7UsdEAka0BamfJx6qvkbojn9ny0fkI4r1tTgkhhvlDuBw0l0\""
   ]
  },
  {
   "cell_type": "code",
   "execution_count": 9,
   "id": "07370eec-f317-455b-9633-8fea78ef2d91",
   "metadata": {},
   "outputs": [],
   "source": [
    "# Authenticate to Twitter\n",
    "client = tweepy.Client(bearer_token=BEARER_TOKEN)\n"
   ]
  },
  {
   "cell_type": "code",
   "execution_count": 15,
   "id": "737b3254-0126-48b1-9978-41ba934533e6",
   "metadata": {},
   "outputs": [],
   "source": [
    "# Get tweets from a specific user\n",
    "handle = \"CommBank\"\n",
    "tweets = client.get_users_tweets(id=client.get_user(username=handle).data.id,tweet_fields=[\"created_at\", \"text\"],max_results=100)"
   ]
  },
  {
   "cell_type": "code",
   "execution_count": 31,
   "id": "dd37c493-2316-4283-aa63-98b651032201",
   "metadata": {},
   "outputs": [],
   "source": [
    "# Create a list of tweet data\n",
    "tweet_data = []\n",
    "for tweet in tweets.data:\n",
    "    tweet_data.append([tweet.created_at, tweet.text])"
   ]
  },
  {
   "cell_type": "code",
   "execution_count": 33,
   "id": "b85dee53-2f13-481f-8e25-e5b4f8475bce",
   "metadata": {},
   "outputs": [],
   "source": [
    "# Create a Pandas DataFrame\n",
    "df = pd.DataFrame(tweet_data, columns=[\"Created At\", \"Tweet Text\"])"
   ]
  },
  {
   "cell_type": "code",
   "execution_count": 25,
   "id": "ef1d0c36-720c-4de3-8b24-f0bd4586807d",
   "metadata": {},
   "outputs": [
    {
     "name": "stdout",
     "output_type": "stream",
     "text": [
      "                  Created At  \\\n",
      "0  2024-12-10 13:38:12+00:00   \n",
      "1  2024-12-10 00:38:55+00:00   \n",
      "2  2024-12-10 00:20:29+00:00   \n",
      "3  2024-12-10 00:20:15+00:00   \n",
      "4  2024-12-10 00:19:46+00:00   \n",
      "..                       ...   \n",
      "95 2024-12-04 06:56:31+00:00   \n",
      "96 2024-12-04 06:54:13+00:00   \n",
      "97 2024-12-04 05:48:23+00:00   \n",
      "98 2024-12-04 05:30:08+00:00   \n",
      "99 2024-12-04 05:29:52+00:00   \n",
      "\n",
      "                                           Tweet Text  \n",
      "0   @stevemiguel Hi Steve, I am sorry to hear that...  \n",
      "1   @fleurblansh No, as CTBAAU2S is our only SWIFT...  \n",
      "2   @farooq78670 If you need further assistance, p...  \n",
      "3   @farooq78670 @fleurblansh Hi Farooq. For secur...  \n",
      "4   @fleurblansh This is our only method of provid...  \n",
      "..                                                ...  \n",
      "95  @Mansell05 Hi there, to clarify, withdrawals f...  \n",
      "96  @LettersfromTim Hi there. I understand this is...  \n",
      "97  @JfkNakamoto Hi there. I can understand your f...  \n",
      "98  @jofrazer2 Could I ask that you delete it? For...  \n",
      "99  @jofrazer2 Hi Jo, I notice that you've shared ...  \n",
      "\n",
      "[100 rows x 2 columns]\n"
     ]
    }
   ],
   "source": [
    "# Print the DataFrame or save it to a file\n",
    "print(df)\n",
    "# df.to_csv(\"tweets.csv\", index=False)"
   ]
  },
  {
   "cell_type": "code",
   "execution_count": null,
   "id": "63d62385-7ebd-4833-a94c-064dd52214b3",
   "metadata": {},
   "outputs": [],
   "source": []
  }
 ],
 "metadata": {
  "kernelspec": {
   "display_name": "Python 3 (ipykernel)",
   "language": "python",
   "name": "python3"
  },
  "language_info": {
   "codemirror_mode": {
    "name": "ipython",
    "version": 3
   },
   "file_extension": ".py",
   "mimetype": "text/x-python",
   "name": "python",
   "nbconvert_exporter": "python",
   "pygments_lexer": "ipython3",
   "version": "3.12.4"
  }
 },
 "nbformat": 4,
 "nbformat_minor": 5
}
