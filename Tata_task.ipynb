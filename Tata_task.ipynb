{
 "cells": [
  {
   "cell_type": "code",
   "execution_count": 37,
   "id": "808ec4ea-9de4-4f49-b658-b1ede3277aff",
   "metadata": {},
   "outputs": [],
   "source": [
    "import pandas as pd "
   ]
  },
  {
   "cell_type": "code",
   "execution_count": null,
   "id": "c9d2b8eb-b82b-4575-8e76-fa45d4619fd0",
   "metadata": {},
   "outputs": [],
   "source": [
    "# Load the Excel file as an ExcelFile object\n",
    "file_path = 'Online Retail.xlsx'\n",
    "excel_data = pd.ExcelFile(file_path)"
   ]
  },
  {
   "cell_type": "code",
   "execution_count": 10,
   "id": "48d67c7f-0939-4228-bf7e-eb91af2384c6",
   "metadata": {},
   "outputs": [
    {
     "name": "stdout",
     "output_type": "stream",
     "text": [
      "['Online Retail']\n"
     ]
    }
   ],
   "source": [
    "# Display sheet names\n",
    "print(excel_data.sheet_names)"
   ]
  },
  {
   "cell_type": "code",
   "execution_count": 12,
   "id": "958cfc59-9e93-4896-bb60-a0b84fa508bf",
   "metadata": {},
   "outputs": [],
   "source": [
    "# Load the specific sheet into a DataFrame\n",
    "data = excel_data.parse(sheet_name='Online Retail')"
   ]
  },
  {
   "cell_type": "code",
   "execution_count": 13,
   "id": "79636f63-7b6b-4880-a9c0-7e5dc949f131",
   "metadata": {},
   "outputs": [],
   "source": [
    "# Perform operations on the DataFrame\n",
    "data['Revenue'] = data['Quantity'] * data['UnitPrice']"
   ]
  },
  {
   "cell_type": "code",
   "execution_count": 16,
   "id": "c7372d6a-e084-4abd-b493-14fa8180c2cf",
   "metadata": {},
   "outputs": [
    {
     "data": {
      "text/html": [
       "<div>\n",
       "<style scoped>\n",
       "    .dataframe tbody tr th:only-of-type {\n",
       "        vertical-align: middle;\n",
       "    }\n",
       "\n",
       "    .dataframe tbody tr th {\n",
       "        vertical-align: top;\n",
       "    }\n",
       "\n",
       "    .dataframe thead th {\n",
       "        text-align: right;\n",
       "    }\n",
       "</style>\n",
       "<table border=\"1\" class=\"dataframe\">\n",
       "  <thead>\n",
       "    <tr style=\"text-align: right;\">\n",
       "      <th></th>\n",
       "      <th>InvoiceNo</th>\n",
       "      <th>StockCode</th>\n",
       "      <th>Description</th>\n",
       "      <th>Quantity</th>\n",
       "      <th>InvoiceDate</th>\n",
       "      <th>UnitPrice</th>\n",
       "      <th>CustomerID</th>\n",
       "      <th>Country</th>\n",
       "      <th>Revenue</th>\n",
       "    </tr>\n",
       "  </thead>\n",
       "  <tbody>\n",
       "    <tr>\n",
       "      <th>0</th>\n",
       "      <td>536365</td>\n",
       "      <td>85123A</td>\n",
       "      <td>WHITE HANGING HEART T-LIGHT HOLDER</td>\n",
       "      <td>6</td>\n",
       "      <td>2010-12-01 08:26:00</td>\n",
       "      <td>2.55</td>\n",
       "      <td>17850.0</td>\n",
       "      <td>United Kingdom</td>\n",
       "      <td>15.30</td>\n",
       "    </tr>\n",
       "    <tr>\n",
       "      <th>1</th>\n",
       "      <td>536365</td>\n",
       "      <td>71053</td>\n",
       "      <td>WHITE METAL LANTERN</td>\n",
       "      <td>6</td>\n",
       "      <td>2010-12-01 08:26:00</td>\n",
       "      <td>3.39</td>\n",
       "      <td>17850.0</td>\n",
       "      <td>United Kingdom</td>\n",
       "      <td>20.34</td>\n",
       "    </tr>\n",
       "    <tr>\n",
       "      <th>2</th>\n",
       "      <td>536365</td>\n",
       "      <td>84406B</td>\n",
       "      <td>CREAM CUPID HEARTS COAT HANGER</td>\n",
       "      <td>8</td>\n",
       "      <td>2010-12-01 08:26:00</td>\n",
       "      <td>2.75</td>\n",
       "      <td>17850.0</td>\n",
       "      <td>United Kingdom</td>\n",
       "      <td>22.00</td>\n",
       "    </tr>\n",
       "    <tr>\n",
       "      <th>3</th>\n",
       "      <td>536365</td>\n",
       "      <td>84029G</td>\n",
       "      <td>KNITTED UNION FLAG HOT WATER BOTTLE</td>\n",
       "      <td>6</td>\n",
       "      <td>2010-12-01 08:26:00</td>\n",
       "      <td>3.39</td>\n",
       "      <td>17850.0</td>\n",
       "      <td>United Kingdom</td>\n",
       "      <td>20.34</td>\n",
       "    </tr>\n",
       "    <tr>\n",
       "      <th>4</th>\n",
       "      <td>536365</td>\n",
       "      <td>84029E</td>\n",
       "      <td>RED WOOLLY HOTTIE WHITE HEART.</td>\n",
       "      <td>6</td>\n",
       "      <td>2010-12-01 08:26:00</td>\n",
       "      <td>3.39</td>\n",
       "      <td>17850.0</td>\n",
       "      <td>United Kingdom</td>\n",
       "      <td>20.34</td>\n",
       "    </tr>\n",
       "  </tbody>\n",
       "</table>\n",
       "</div>"
      ],
      "text/plain": [
       "  InvoiceNo StockCode                          Description  Quantity  \\\n",
       "0    536365    85123A   WHITE HANGING HEART T-LIGHT HOLDER         6   \n",
       "1    536365     71053                  WHITE METAL LANTERN         6   \n",
       "2    536365    84406B       CREAM CUPID HEARTS COAT HANGER         8   \n",
       "3    536365    84029G  KNITTED UNION FLAG HOT WATER BOTTLE         6   \n",
       "4    536365    84029E       RED WOOLLY HOTTIE WHITE HEART.         6   \n",
       "\n",
       "          InvoiceDate  UnitPrice  CustomerID         Country  Revenue  \n",
       "0 2010-12-01 08:26:00       2.55     17850.0  United Kingdom    15.30  \n",
       "1 2010-12-01 08:26:00       3.39     17850.0  United Kingdom    20.34  \n",
       "2 2010-12-01 08:26:00       2.75     17850.0  United Kingdom    22.00  \n",
       "3 2010-12-01 08:26:00       3.39     17850.0  United Kingdom    20.34  \n",
       "4 2010-12-01 08:26:00       3.39     17850.0  United Kingdom    20.34  "
      ]
     },
     "execution_count": 16,
     "metadata": {},
     "output_type": "execute_result"
    }
   ],
   "source": [
    "# Display the first few rows of the dataset to understand its structure and contents\n",
    "data.head()"
   ]
  },
  {
   "cell_type": "code",
   "execution_count": 18,
   "id": "2c08f037-6dd1-4a05-bdfe-22caf06b4e2c",
   "metadata": {},
   "outputs": [],
   "source": [
    "#.The dataset includes the following key columns:\n",
    "\n",
    "#.InvoiceNo: Transaction identifier.\n",
    "#.StockCode: Product identifier.\n",
    "#.Description: Product description.\n",
    "#.Quantity: Units of the product purchased.\n",
    "#.InvoiceDate: Date and time of the transaction.\n",
    "#.UnitPrice: Price per unit of the product.\n",
    "#.CustomerID: Identifier for the customer.\n",
    "#.Country: Country of the customer."
   ]
  },
  {
   "cell_type": "code",
   "execution_count": 22,
   "id": "989f8e82-a4ee-4b15-9c7d-2252a3090592",
   "metadata": {},
   "outputs": [
    {
     "data": {
      "text/plain": [
       "0         15.30\n",
       "1         20.34\n",
       "2         22.00\n",
       "3         20.34\n",
       "4         20.34\n",
       "          ...  \n",
       "541904    10.20\n",
       "541905    12.60\n",
       "541906    16.60\n",
       "541907    16.60\n",
       "541908    14.85\n",
       "Name: Revenue, Length: 541909, dtype: float64"
      ]
     },
     "execution_count": 22,
     "metadata": {},
     "output_type": "execute_result"
    }
   ],
   "source": [
    "# display the revenue\n",
    "data['Revenue']"
   ]
  },
  {
   "cell_type": "code",
   "execution_count": 60,
   "id": "bb965ed1-9834-4531-b775-545b07ad8f98",
   "metadata": {},
   "outputs": [
    {
     "name": "stdout",
     "output_type": "stream",
     "text": [
      "       InvoiceNo StockCode                          Description  Quantity  \\\n",
      "0         536365    85123A   WHITE HANGING HEART T-LIGHT HOLDER         6   \n",
      "1         536365     71053                  WHITE METAL LANTERN         6   \n",
      "2         536365    84406B       CREAM CUPID HEARTS COAT HANGER         8   \n",
      "3         536365    84029G  KNITTED UNION FLAG HOT WATER BOTTLE         6   \n",
      "4         536365    84029E       RED WOOLLY HOTTIE WHITE HEART.         6   \n",
      "...          ...       ...                                  ...       ...   \n",
      "541889    581585     22466       FAIRY TALE COTTAGE NIGHT LIGHT        12   \n",
      "541890    581586     22061  LARGE CAKE STAND  HANGING STRAWBERY         8   \n",
      "541891    581586     23275     SET OF 3 HANGING OWLS OLLIE BEAK        24   \n",
      "541892    581586     21217        RED RETROSPOT ROUND CAKE TINS        24   \n",
      "541893    581586     20685                DOORMAT RED RETROSPOT        10   \n",
      "\n",
      "               InvoiceDate  UnitPrice  CustomerID         Country  Revenue  \n",
      "0      2010-12-01 08:26:00       2.55     17850.0  United Kingdom    15.30  \n",
      "1      2010-12-01 08:26:00       3.39     17850.0  United Kingdom    20.34  \n",
      "2      2010-12-01 08:26:00       2.75     17850.0  United Kingdom    22.00  \n",
      "3      2010-12-01 08:26:00       3.39     17850.0  United Kingdom    20.34  \n",
      "4      2010-12-01 08:26:00       3.39     17850.0  United Kingdom    20.34  \n",
      "...                    ...        ...         ...             ...      ...  \n",
      "541889 2011-12-09 12:31:00       1.95     15804.0  United Kingdom    23.40  \n",
      "541890 2011-12-09 12:49:00       2.95     13113.0  United Kingdom    23.60  \n",
      "541891 2011-12-09 12:49:00       1.25     13113.0  United Kingdom    30.00  \n",
      "541892 2011-12-09 12:49:00       8.95     13113.0  United Kingdom   214.80  \n",
      "541893 2011-12-09 12:49:00       7.08     13113.0  United Kingdom    70.80  \n",
      "\n",
      "[486284 rows x 9 columns]\n"
     ]
    }
   ],
   "source": [
    "# Filter the data to include only rows where the 'Country' is 'United Kingdom'\n",
    "uk_data = data[data['Country'] == 'United Kingdom']\n",
    "\n",
    "# Display the filtered data\n",
    "print(uk_data)"
   ]
  },
  {
   "cell_type": "code",
   "execution_count": 26,
   "id": "6f3b97ff-550f-4aa8-84cf-d5292ca34c37",
   "metadata": {},
   "outputs": [
    {
     "name": "stdout",
     "output_type": "stream",
     "text": [
      "Index(['InvoiceNo', 'StockCode', 'Description', 'Quantity', 'InvoiceDate',\n",
      "       'UnitPrice', 'CustomerID', 'Country', 'Revenue'],\n",
      "      dtype='object')\n"
     ]
    }
   ],
   "source": [
    "print(data.columns)"
   ]
  },
  {
   "cell_type": "code",
   "execution_count": 28,
   "id": "dd12b460-9549-4975-889c-9ac864baef8c",
   "metadata": {},
   "outputs": [],
   "source": [
    "# Perform any desired analysis or operations on the DataFrame\n",
    "revenue_summary = data.groupby('Country')['Revenue'].sum().sort_values(ascending=False)\n",
    "top_products = data.groupby('Description')['Quantity'].sum().sort_values(ascending=False).head(5)\n",
    "customer_revenue = data.groupby('CustomerID')['Revenue'].sum().sort_values(ascending=False).head(5)"
   ]
  },
  {
   "cell_type": "code",
   "execution_count": 30,
   "id": "05c2e9df-a261-422a-b2ab-927156ab63d2",
   "metadata": {},
   "outputs": [
    {
     "data": {
      "text/plain": [
       "(Country\n",
       " United Kingdom    8187806.364\n",
       " Netherlands        284661.540\n",
       " EIRE               263276.820\n",
       " Germany            221698.210\n",
       " France             197403.900\n",
       " Name: Revenue, dtype: float64,\n",
       " Description\n",
       " WORLD WAR 2 GLIDERS ASSTD DESIGNS    53847\n",
       " JUMBO BAG RED RETROSPOT              47363\n",
       " ASSORTED COLOUR BIRD ORNAMENT        36381\n",
       " POPCORN HOLDER                       36334\n",
       " PACK OF 72 RETROSPOT CAKE CASES      36039\n",
       " Name: Quantity, dtype: int64,\n",
       " CustomerID\n",
       " 14646.0    279489.02\n",
       " 18102.0    256438.49\n",
       " 17450.0    187482.17\n",
       " 14911.0    132572.62\n",
       " 12415.0    123725.45\n",
       " Name: Revenue, dtype: float64)"
      ]
     },
     "execution_count": 30,
     "metadata": {},
     "output_type": "execute_result"
    }
   ],
   "source": [
    "# Display insights\n",
    "revenue_summary.head(), top_products, customer_revenue"
   ]
  },
  {
   "cell_type": "code",
   "execution_count": 32,
   "id": "bdaf1c86-eb87-4df8-b7d1-7441afcbca08",
   "metadata": {},
   "outputs": [
    {
     "name": "stdout",
     "output_type": "stream",
     "text": [
      "Total Revenue for United Kingdom: 8187806.364000001\n"
     ]
    }
   ],
   "source": [
    "#.To view a summary of UK-specific data (e.g., total revenue)\n",
    "uk_total_revenue = uk_data['Revenue'].sum()\n",
    "print(\"Total Revenue for United Kingdom:\", uk_total_revenue)"
   ]
  },
  {
   "cell_type": "code",
   "execution_count": 71,
   "id": "acfaae9b-c54c-4a5d-9658-3e19cdafd3c1",
   "metadata": {},
   "outputs": [],
   "source": [
    "#To export UK data to a new file\n",
    "uk_data.to_excel('UK_Data.xlsx', index=False)"
   ]
  },
  {
   "cell_type": "code",
   "execution_count": 73,
   "id": "0c3d5be3-e5a6-46b5-9339-bdf68295a3e1",
   "metadata": {},
   "outputs": [],
   "source": [
    "# Add Revenue Column\n",
    "data['Revenue'] = data['Quantity'] * data['UnitPrice']"
   ]
  },
  {
   "cell_type": "code",
   "execution_count": 78,
   "id": "baa3fd23-e18b-4f35-bb4d-f8fc378465dc",
   "metadata": {},
   "outputs": [
    {
     "data": {
      "text/html": [
       "<div>\n",
       "<style scoped>\n",
       "    .dataframe tbody tr th:only-of-type {\n",
       "        vertical-align: middle;\n",
       "    }\n",
       "\n",
       "    .dataframe tbody tr th {\n",
       "        vertical-align: top;\n",
       "    }\n",
       "\n",
       "    .dataframe thead th {\n",
       "        text-align: right;\n",
       "    }\n",
       "</style>\n",
       "<table border=\"1\" class=\"dataframe\">\n",
       "  <thead>\n",
       "    <tr style=\"text-align: right;\">\n",
       "      <th></th>\n",
       "      <th>InvoiceNo</th>\n",
       "      <th>StockCode</th>\n",
       "      <th>Description</th>\n",
       "      <th>Quantity</th>\n",
       "      <th>InvoiceDate</th>\n",
       "      <th>UnitPrice</th>\n",
       "      <th>CustomerID</th>\n",
       "      <th>Country</th>\n",
       "      <th>Revenue</th>\n",
       "    </tr>\n",
       "  </thead>\n",
       "  <tbody>\n",
       "    <tr>\n",
       "      <th>0</th>\n",
       "      <td>536365</td>\n",
       "      <td>85123A</td>\n",
       "      <td>WHITE HANGING HEART T-LIGHT HOLDER</td>\n",
       "      <td>6</td>\n",
       "      <td>2010-12-01 08:26:00</td>\n",
       "      <td>2.55</td>\n",
       "      <td>17850.0</td>\n",
       "      <td>United Kingdom</td>\n",
       "      <td>15.30</td>\n",
       "    </tr>\n",
       "    <tr>\n",
       "      <th>1</th>\n",
       "      <td>536365</td>\n",
       "      <td>71053</td>\n",
       "      <td>WHITE METAL LANTERN</td>\n",
       "      <td>6</td>\n",
       "      <td>2010-12-01 08:26:00</td>\n",
       "      <td>3.39</td>\n",
       "      <td>17850.0</td>\n",
       "      <td>United Kingdom</td>\n",
       "      <td>20.34</td>\n",
       "    </tr>\n",
       "    <tr>\n",
       "      <th>2</th>\n",
       "      <td>536365</td>\n",
       "      <td>84406B</td>\n",
       "      <td>CREAM CUPID HEARTS COAT HANGER</td>\n",
       "      <td>8</td>\n",
       "      <td>2010-12-01 08:26:00</td>\n",
       "      <td>2.75</td>\n",
       "      <td>17850.0</td>\n",
       "      <td>United Kingdom</td>\n",
       "      <td>22.00</td>\n",
       "    </tr>\n",
       "    <tr>\n",
       "      <th>3</th>\n",
       "      <td>536365</td>\n",
       "      <td>84029G</td>\n",
       "      <td>KNITTED UNION FLAG HOT WATER BOTTLE</td>\n",
       "      <td>6</td>\n",
       "      <td>2010-12-01 08:26:00</td>\n",
       "      <td>3.39</td>\n",
       "      <td>17850.0</td>\n",
       "      <td>United Kingdom</td>\n",
       "      <td>20.34</td>\n",
       "    </tr>\n",
       "    <tr>\n",
       "      <th>4</th>\n",
       "      <td>536365</td>\n",
       "      <td>84029E</td>\n",
       "      <td>RED WOOLLY HOTTIE WHITE HEART.</td>\n",
       "      <td>6</td>\n",
       "      <td>2010-12-01 08:26:00</td>\n",
       "      <td>3.39</td>\n",
       "      <td>17850.0</td>\n",
       "      <td>United Kingdom</td>\n",
       "      <td>20.34</td>\n",
       "    </tr>\n",
       "    <tr>\n",
       "      <th>...</th>\n",
       "      <td>...</td>\n",
       "      <td>...</td>\n",
       "      <td>...</td>\n",
       "      <td>...</td>\n",
       "      <td>...</td>\n",
       "      <td>...</td>\n",
       "      <td>...</td>\n",
       "      <td>...</td>\n",
       "      <td>...</td>\n",
       "    </tr>\n",
       "    <tr>\n",
       "      <th>102099</th>\n",
       "      <td>544968</td>\n",
       "      <td>85123A</td>\n",
       "      <td>WHITE HANGING HEART T-LIGHT HOLDER</td>\n",
       "      <td>18</td>\n",
       "      <td>2011-02-25 11:30:00</td>\n",
       "      <td>2.95</td>\n",
       "      <td>13458.0</td>\n",
       "      <td>United Kingdom</td>\n",
       "      <td>53.10</td>\n",
       "    </tr>\n",
       "    <tr>\n",
       "      <th>102100</th>\n",
       "      <td>544968</td>\n",
       "      <td>21916</td>\n",
       "      <td>SET 12 RETRO WHITE CHALK STICKS</td>\n",
       "      <td>24</td>\n",
       "      <td>2011-02-25 11:30:00</td>\n",
       "      <td>0.42</td>\n",
       "      <td>13458.0</td>\n",
       "      <td>United Kingdom</td>\n",
       "      <td>10.08</td>\n",
       "    </tr>\n",
       "    <tr>\n",
       "      <th>102101</th>\n",
       "      <td>544968</td>\n",
       "      <td>21155</td>\n",
       "      <td>RED RETROSPOT PEG BAG</td>\n",
       "      <td>6</td>\n",
       "      <td>2011-02-25 11:30:00</td>\n",
       "      <td>2.55</td>\n",
       "      <td>13458.0</td>\n",
       "      <td>United Kingdom</td>\n",
       "      <td>15.30</td>\n",
       "    </tr>\n",
       "    <tr>\n",
       "      <th>102102</th>\n",
       "      <td>544968</td>\n",
       "      <td>84509A</td>\n",
       "      <td>SET OF 4 ENGLISH ROSE PLACEMATS</td>\n",
       "      <td>8</td>\n",
       "      <td>2011-02-25 11:30:00</td>\n",
       "      <td>3.75</td>\n",
       "      <td>13458.0</td>\n",
       "      <td>United Kingdom</td>\n",
       "      <td>30.00</td>\n",
       "    </tr>\n",
       "    <tr>\n",
       "      <th>102103</th>\n",
       "      <td>544968</td>\n",
       "      <td>84510A</td>\n",
       "      <td>SET OF 4 ENGLISH ROSE COASTERS</td>\n",
       "      <td>10</td>\n",
       "      <td>2011-02-25 11:30:00</td>\n",
       "      <td>1.25</td>\n",
       "      <td>13458.0</td>\n",
       "      <td>United Kingdom</td>\n",
       "      <td>12.50</td>\n",
       "    </tr>\n",
       "  </tbody>\n",
       "</table>\n",
       "<p>100000 rows × 9 columns</p>\n",
       "</div>"
      ],
      "text/plain": [
       "       InvoiceNo StockCode                          Description  Quantity  \\\n",
       "0         536365    85123A   WHITE HANGING HEART T-LIGHT HOLDER         6   \n",
       "1         536365     71053                  WHITE METAL LANTERN         6   \n",
       "2         536365    84406B       CREAM CUPID HEARTS COAT HANGER         8   \n",
       "3         536365    84029G  KNITTED UNION FLAG HOT WATER BOTTLE         6   \n",
       "4         536365    84029E       RED WOOLLY HOTTIE WHITE HEART.         6   \n",
       "...          ...       ...                                  ...       ...   \n",
       "102099    544968    85123A   WHITE HANGING HEART T-LIGHT HOLDER        18   \n",
       "102100    544968     21916      SET 12 RETRO WHITE CHALK STICKS        24   \n",
       "102101    544968     21155                RED RETROSPOT PEG BAG         6   \n",
       "102102    544968    84509A      SET OF 4 ENGLISH ROSE PLACEMATS         8   \n",
       "102103    544968    84510A       SET OF 4 ENGLISH ROSE COASTERS        10   \n",
       "\n",
       "               InvoiceDate  UnitPrice  CustomerID         Country  Revenue  \n",
       "0      2010-12-01 08:26:00       2.55     17850.0  United Kingdom    15.30  \n",
       "1      2010-12-01 08:26:00       3.39     17850.0  United Kingdom    20.34  \n",
       "2      2010-12-01 08:26:00       2.75     17850.0  United Kingdom    22.00  \n",
       "3      2010-12-01 08:26:00       3.39     17850.0  United Kingdom    20.34  \n",
       "4      2010-12-01 08:26:00       3.39     17850.0  United Kingdom    20.34  \n",
       "...                    ...        ...         ...             ...      ...  \n",
       "102099 2011-02-25 11:30:00       2.95     13458.0  United Kingdom    53.10  \n",
       "102100 2011-02-25 11:30:00       0.42     13458.0  United Kingdom    10.08  \n",
       "102101 2011-02-25 11:30:00       2.55     13458.0  United Kingdom    15.30  \n",
       "102102 2011-02-25 11:30:00       3.75     13458.0  United Kingdom    30.00  \n",
       "102103 2011-02-25 11:30:00       1.25     13458.0  United Kingdom    12.50  \n",
       "\n",
       "[100000 rows x 9 columns]"
      ]
     },
     "execution_count": 78,
     "metadata": {},
     "output_type": "execute_result"
    }
   ],
   "source": [
    "data.head(100000)"
   ]
  },
  {
   "cell_type": "code",
   "execution_count": 83,
   "id": "21716d0f-0f25-407f-8086-f8a1acb8442b",
   "metadata": {},
   "outputs": [],
   "source": [
    "# Save the UK data to an Excel file\n",
    "uk_data_file_path = 'UK_Data.xlsx'\n",
    "uk_data.to_excel(uk_data_file_path, index=False)"
   ]
  },
  {
   "cell_type": "code",
   "execution_count": 84,
   "id": "2aabe926-bab9-457d-9a2b-0210675eb56d",
   "metadata": {},
   "outputs": [
    {
     "name": "stdout",
     "output_type": "stream",
     "text": [
      "The file is saved at: UK_Data.xlsx\n"
     ]
    }
   ],
   "source": [
    "# File is now saved and can be downloaded from the specified path\n",
    "print(f\"The file is saved at: {uk_data_file_path}\")"
   ]
  },
  {
   "cell_type": "code",
   "execution_count": 87,
   "id": "c1205003-fdda-4828-bbd0-b44d0df5066e",
   "metadata": {},
   "outputs": [],
   "source": [
    "# Data Cleaning: Exclude negative quantities and unit prices\n",
    "data = data[(data['Quantity'] >= 1) & (data['UnitPrice'] >= 0)]"
   ]
  },
  {
   "cell_type": "code",
   "execution_count": 91,
   "id": "49c8c6f5-b3e2-4862-872f-31168a045708",
   "metadata": {},
   "outputs": [],
   "source": [
    "# Save cleaned data to Excel\n",
    "data.to_excel('Cleaned_Online_Retail.xlsx', index=False) "
   ]
  },
  {
   "cell_type": "code",
   "execution_count": 93,
   "id": "bf32ba4f-e2a5-4b01-aefc-8dd5d7352a6d",
   "metadata": {},
   "outputs": [
    {
     "name": "stdout",
     "output_type": "stream",
     "text": [
      "<bound method NDFrame.to_excel of        InvoiceNo StockCode                          Description  Quantity  \\\n",
      "0         536365    85123A   WHITE HANGING HEART T-LIGHT HOLDER         6   \n",
      "1         536365     71053                  WHITE METAL LANTERN         6   \n",
      "2         536365    84406B       CREAM CUPID HEARTS COAT HANGER         8   \n",
      "3         536365    84029G  KNITTED UNION FLAG HOT WATER BOTTLE         6   \n",
      "4         536365    84029E       RED WOOLLY HOTTIE WHITE HEART.         6   \n",
      "...          ...       ...                                  ...       ...   \n",
      "541904    581587     22613          PACK OF 20 SPACEBOY NAPKINS        12   \n",
      "541905    581587     22899         CHILDREN'S APRON DOLLY GIRL          6   \n",
      "541906    581587     23254        CHILDRENS CUTLERY DOLLY GIRL          4   \n",
      "541907    581587     23255      CHILDRENS CUTLERY CIRCUS PARADE         4   \n",
      "541908    581587     22138        BAKING SET 9 PIECE RETROSPOT          3   \n",
      "\n",
      "               InvoiceDate  UnitPrice  CustomerID         Country  Revenue  \n",
      "0      2010-12-01 08:26:00       2.55     17850.0  United Kingdom    15.30  \n",
      "1      2010-12-01 08:26:00       3.39     17850.0  United Kingdom    20.34  \n",
      "2      2010-12-01 08:26:00       2.75     17850.0  United Kingdom    22.00  \n",
      "3      2010-12-01 08:26:00       3.39     17850.0  United Kingdom    20.34  \n",
      "4      2010-12-01 08:26:00       3.39     17850.0  United Kingdom    20.34  \n",
      "...                    ...        ...         ...             ...      ...  \n",
      "541904 2011-12-09 12:50:00       0.85     12680.0          France    10.20  \n",
      "541905 2011-12-09 12:50:00       2.10     12680.0          France    12.60  \n",
      "541906 2011-12-09 12:50:00       4.15     12680.0          France    16.60  \n",
      "541907 2011-12-09 12:50:00       4.15     12680.0          France    16.60  \n",
      "541908 2011-12-09 12:50:00       4.95     12680.0          France    14.85  \n",
      "\n",
      "[531283 rows x 9 columns]>\n"
     ]
    }
   ],
   "source": [
    "# Display sheet names\n",
    "print(data.to_excel)"
   ]
  }
 ],
 "metadata": {
  "kernelspec": {
   "display_name": "Python 3 (ipykernel)",
   "language": "python",
   "name": "python3"
  },
  "language_info": {
   "codemirror_mode": {
    "name": "ipython",
    "version": 3
   },
   "file_extension": ".py",
   "mimetype": "text/x-python",
   "name": "python",
   "nbconvert_exporter": "python",
   "pygments_lexer": "ipython3",
   "version": "3.12.4"
  }
 },
 "nbformat": 4,
 "nbformat_minor": 5
}
